{
 "cells": [
  {
   "cell_type": "markdown",
   "metadata": {},
   "source": [
    "# PTT 網路爬蟲實作練習\n",
    "\n",
    "\n",
    "* 能夠利用 Request + BeatifulSour 撰寫爬蟲，並存放到合適的資料結構\n"
   ]
  },
  {
   "cell_type": "markdown",
   "metadata": {},
   "source": [
    "## 作業目標\n",
    "\n",
    "根據範例 ，完成以下問題：\n",
    "\n",
    "* ① 印出最新文章的「作者」「標題」「時間」\n",
    "* ② 印出第一頁所有文章的「作者」「標題」「時間」\n"
   ]
  },
  {
   "cell_type": "markdown",
   "metadata": {},
   "source": [
    "### ① 印出最新文章的「作者」「標題」「時間」"
   ]
  },
  {
   "cell_type": "code",
   "execution_count": 42,
   "metadata": {},
   "outputs": [
    {
     "name": "stdout",
     "output_type": "stream",
     "text": [
      "標題 [情報] 蘭德爾：羅賓遜不用擔心技犯，我會幫他付\n",
      "作者 PttGod (PttGod)\n",
      "時間 Mon Mar  9 20:12:28 2020 \n",
      "\n",
      "標題 Re: [情報] SNY記者：一些籃網老將質疑阿特金森能否\n",
      "作者 Ginpunch (南城阿鬼)\n",
      "時間 Mon Mar  9 20:23:14 2020 \n",
      "\n",
      "標題 [新聞] 重建有功仍再見 波總幫說話\n",
      "作者 go190214 (天空之島拉普達)\n",
      "時間 Mon Mar  9 20:23:22 2020 \n",
      "\n",
      "標題 [花邊] 憤怒的獅王！詹姆斯發怒吼慶祝照自比雄獅\n",
      "作者 PttGod (PttGod)\n",
      "時間 Mon Mar  9 20:41:36 2020 \n",
      "\n",
      "標題 [公告] 板規v6.8\n",
      "標題 [公告] 版主上任相關事項 \n",
      "作者 qazwsx879345 (Rajon Rondo)\n",
      "時間 Fri Oct 25 10:44:03 2019 \n",
      "\n",
      "標題 [情報] SEASON Schedule 賽程 March 19–20\n",
      "作者 Acetoxy (阿斯)\n",
      "時間 Mon Mar  2 01:19:40 2020 \n",
      "\n",
      "標題 Fw: [公告] 即日起開放 NTU 信箱註冊帳號\n",
      "作者 Vedan (味丹)\n",
      "時間 Wed Mar  4 12:50:19 2020 \n",
      "\n",
      "標題 [公告] 第一次被退文，可在三天後刪除退文\n",
      "作者 Vedan (味丹)\n",
      "時間 Mon Mar  9 11:44:26 2020 \n",
      "\n"
     ]
    }
   ],
   "source": [
    "import requests\n",
    "from bs4 import BeautifulSoup\n",
    "\n",
    "url = 'https://www.ptt.cc/bbs/NBA/index.html'\n",
    "r = requests.get(url)\n",
    "\n",
    "soup = BeautifulSoup(r.text, \"html5lib\")\n",
    "#print(soup)\n",
    "for d in soup.find_all(class_=\"title\"):\n",
    "    print('標題',d.text.replace('\\t', '').replace('\\n', ''))\n",
    "    try:\n",
    "        r = BeautifulSoup(requests.get('https://www.ptt.cc'+d.find('a')['href']).text, \"html5lib\")\n",
    "        #print(r)\n",
    "        print(r.find_all(class_='article-meta-tag')[0].text,r.find_all(class_='article-meta-value')[0].text)\n",
    "        print(r.find_all(class_='article-meta-tag')[-1].text,r.find_all(class_='article-meta-value')[-1].text,'\\n')\n",
    "    except:\n",
    "        continue\n",
    "    \n"
   ]
  },
  {
   "cell_type": "markdown",
   "metadata": {},
   "source": [
    "### ② 印出第一頁所有文章的「作者」「標題」「時間」"
   ]
  },
  {
   "cell_type": "code",
   "execution_count": 41,
   "metadata": {},
   "outputs": [
    {
     "name": "stdout",
     "output_type": "stream",
     "text": [
      "標題 [轉錄]Lyotard 對於太陽板討論串的結論\n",
      "作者 Price (Price)\n",
      "時間 Sun May 16 01:54:33 2004 \n",
      "\n",
      "標題 [公告] 請停止一切關於本次活動的發言\n",
      "作者 Price (Price)\n",
      "時間 Mon May 24 00:43:00 2004 \n",
      "\n",
      "標題 [轉錄]跟之前那篇比起來 我覺得這篇也應該轉過來\n",
      "作者 Frankaze (神采風華)\n",
      "時間 Tue Jun  8 01:16:45 2004 \n",
      "\n",
      "標題 [轉錄]再轉一篇好文來\n",
      "作者 Frankaze (神采風華)\n",
      "時間 Tue Jun  8 09:02:23 2004 \n",
      "\n",
      "標題 [轉錄][情報] 夏洛特山貓系列\n",
      "作者 Price (Price)\n",
      "時間 Thu Jun 10 00:39:35 2004 \n",
      "\n",
      "標題 [轉錄]Re: [心得] 真是受不了糗爺....\n",
      "作者 Price (Price)\n",
      "時間 Thu Jun 10 00:51:35 2004 \n",
      "\n",
      "標題 [轉錄]總冠軍賽NO.2觀後感\n",
      "作者 Price (Price)\n",
      "時間 Thu Jun 10 12:05:07 2004 \n",
      "\n",
      "標題 [心得] Rasheed Wallace\n",
      "作者 AmuroNamie (原來太嗨真的會失眠^___^)\n",
      "時間 Fri Jun 11 15:06:09 2004 \n",
      "\n",
      "標題 掌控球賽的男人\n",
      "作者 toptree (  )\n",
      "時間 Sat Jun 12 07:13:04 2004 \n",
      "\n",
      "標題 [閒聊] 說說2004季後賽名場面回顧\n",
      "作者 skchang (3EB板開板囉！)\n",
      "時間 Sat Jun 12 13:21:49 2004 \n",
      "\n",
      "標題 [心得] 其實說穿了 就是活塞的防守太可怕了\n",
      "作者 shineup ()\n",
      "時間 Sat Jun 12 13:12:47 2004 \n",
      "\n",
      "標題 Re: [閒聊] 說說2004季後賽名場面回顧\n",
      "作者 cOvi (喵~)\n",
      "時間 Sat Jun 12 16:43:07 2004 \n",
      "\n",
      "標題 Re: [閒聊] 說說2004季後賽名場面回顧\n",
      "作者 ykshih (￼N￼Ns)\n",
      "時間 Sat Jun 12 17:26:37 2004 \n",
      "\n",
      "標題 Re: [閒聊] 說說2004季後賽名場面回顧\n",
      "作者 Frankaze (神采風華)\n",
      "時間 Sat Jun 12 18:34:46 2004 \n",
      "\n",
      "標題 [轉錄]Re: 總冠軍賽NO.3觀後感\n",
      "作者 Price (Price)\n",
      "時間 Mon Jun 14 02:18:52 2004 \n",
      "\n",
      "標題 [轉錄]Re: 總冠軍賽NO.3觀後感\n",
      "作者 Frankaze (神采風華)\n",
      "時間 Mon Jun 14 02:34:33 2004 \n",
      "\n",
      "標題 Re: [轉錄]Re: 總冠軍賽NO.3觀後感\n",
      "作者 star1 (第一次魔術表演不算成功)\n",
      "時間 Mon Jun 14 07:16:30 2004 \n",
      "\n",
      "標題 Re: [轉錄]Re: 總冠軍賽NO.3觀後感\n",
      "作者 coldspring (笑笑)\n",
      "時間 Mon Jun 14 09:24:57 2004 \n",
      "\n",
      "標題 Re: Kobe is frustrated...\n",
      "作者 airbear (地圖)\n",
      "時間 Mon Jun 14 12:56:14 2004 \n",
      "\n",
      "標題 Re: [轉錄]Re: 總冠軍賽NO.3觀後感\n",
      "作者 pennykidd (andre)\n",
      "時間 Mon Jun 14 22:07:01 2004 \n",
      "\n"
     ]
    }
   ],
   "source": [
    "import requests\n",
    "from bs4 import BeautifulSoup\n",
    "\n",
    "url = 'https://www.ptt.cc/bbs/NBA/index1.html'\n",
    "r = requests.get(url)\n",
    "\n",
    "soup = BeautifulSoup(r.text, \"html5lib\")\n",
    "#print(soup)\n",
    "for d in soup.find_all(class_=\"title\"):\n",
    "    print('標題',d.text.replace('\\t', '').replace('\\n', ''))\n",
    "    try:\n",
    "        r = BeautifulSoup(requests.get('https://www.ptt.cc'+d.find('a')['href']).text, \"html5lib\")\n",
    "        #print(r)\n",
    "        print(r.find_all(class_='article-meta-tag')[0].text,r.find_all(class_='article-meta-value')[0].text)\n",
    "        print(r.find_all(class_='article-meta-tag')[-1].text,r.find_all(class_='article-meta-value')[-1].text,'\\n')\n",
    "    except:\n",
    "        continue\n",
    "    "
   ]
  },
  {
   "cell_type": "markdown",
   "metadata": {},
   "source": [
    "### ③ 試著爬爬看其他版的文章"
   ]
  },
  {
   "cell_type": "code",
   "execution_count": 49,
   "metadata": {},
   "outputs": [
    {
     "name": "stdout",
     "output_type": "stream",
     "text": [
      "標題 Re: [討論] 台灣南部鄉下人都很黑嗎？\n",
      "作者 lonkeyhomgun (阿槍是文組的)\n",
      "時間 Mon Mar  9 16:58:09 2020 \n",
      "\n",
      "標題 [閒聊] 關於屬性\n",
      "作者 wdtam (Frenth)\n",
      "時間 Mon Mar  9 17:03:10 2020 \n",
      "\n",
      "標題 [閒聊] 最近武漢肺炎疫情 會影響到約砲嗎??\n",
      "作者 twmadrid (阿偉)\n",
      "時間 Mon Mar  9 17:09:03 2020 \n",
      "\n",
      "標題 [新聞] 高雄男逼16歲女約砲開房 差點要靠父籌36萬擺平\n",
      "作者 orz44444 (陰人本來就沒有當人的命~)\n",
      "時間 Mon Mar  9 17:13:38 2020 \n",
      "\n",
      "標題 [心得] 杜蕾絲熱感 & PlayJoy瑪卡激熱潤滑液\n",
      "作者 xiimi (光輝)\n",
      "時間 Mon Mar  9 17:29:11 2020 \n",
      "\n",
      "標題 Re: [討論] 在日本當網紅會比當AV女優賺錢嗎？\n",
      "作者 coco100 (姐姐殺手)\n",
      "時間 Mon Mar  9 19:14:24 2020 \n",
      "\n",
      "標題 [公告] 西斯板規 Ver 6.2.9\n",
      "標題 Fw: [公告] 請使用者多加注意我國保護兒少的法令\n",
      "作者 FallRed (☆╮落紅a圓仔╭㊣)\n",
      "時間 Mon Jul 29 22:03:19 2019 \n",
      "\n",
      "標題 [公告] 2019 冬季徵文 結果 暨 得獎名單\n",
      "作者 Assisi (Francesco d'Assisi)\n",
      "時間 Mon Jan 20 18:33:45 2020 \n",
      "\n",
      "標題 [公告] 2020 叁月 西斯置底閒聊區\n",
      "作者 Assisi (Francesco d'Assisi)\n",
      "時間 Tue Mar  3 12:01:59 2020 \n",
      "\n"
     ]
    }
   ],
   "source": [
    "import requests\n",
    "from bs4 import BeautifulSoup\n",
    "\n",
    "url = 'https://www.ptt.cc/bbs/SEX/index.html'\n",
    "r = requests.get(url, cookies={'over18': '1'})\n",
    "\n",
    "soup = BeautifulSoup(r.text, \"html5lib\")\n",
    "#print(soup)\n",
    "for d in soup.find_all(class_=\"title\"):\n",
    "    print('標題',d.text.replace('\\t', '').replace('\\n', ''))\n",
    "    try:\n",
    "        r = BeautifulSoup(requests.get('https://www.ptt.cc'+d.find('a')['href'], cookies={'over18': '1'}).text, \"html5lib\")\n",
    "        \n",
    "        print(r.find_all(class_='article-meta-tag')[0].text,r.find_all(class_='article-meta-value')[0].text)\n",
    "        print(r.find_all(class_='article-meta-tag')[-1].text,r.find_all(class_='article-meta-value')[-1].text,'\\n')\n",
    "    except:\n",
    "        continue"
   ]
  },
  {
   "cell_type": "code",
   "execution_count": null,
   "metadata": {},
   "outputs": [],
   "source": []
  }
 ],
 "metadata": {
  "kernelspec": {
   "display_name": "Python 3",
   "language": "python",
   "name": "python3"
  },
  "language_info": {
   "codemirror_mode": {
    "name": "ipython",
    "version": 3
   },
   "file_extension": ".py",
   "mimetype": "text/x-python",
   "name": "python",
   "nbconvert_exporter": "python",
   "pygments_lexer": "ipython3",
   "version": "3.7.4"
  }
 },
 "nbformat": 4,
 "nbformat_minor": 2
}
