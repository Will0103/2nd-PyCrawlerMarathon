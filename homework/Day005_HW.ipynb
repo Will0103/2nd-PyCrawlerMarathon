{
 "cells": [
  {
   "cell_type": "markdown",
   "metadata": {},
   "source": [
    "# API 資料串接 - 以 Dcard API 實作範例\n",
    "\n",
    "* 了解 Dcard API 使用方式與回傳內容\n",
    "* 撰寫程式存取 API 且解析 JSON 格式資料\n"
   ]
  },
  {
   "cell_type": "markdown",
   "metadata": {},
   "source": [
    "## 作業目標\n",
    "\n",
    "* 請利用 API: https://www.dcard.tw/_api/forums/pet/posts?popular=true 回答下列問題：\n",
    "\n",
    "1. 這個 API 一次會回傳幾筆資料？每一筆資料包含哪些欄位？\n",
    "2. 取出每一筆資料的「標題」、「貼文時間」、「留言人數」、「按讚人數」\n",
    "3. 計算熱門/非熱門文章的「平均留言人數」與「平均按讚人數」"
   ]
  },
  {
   "cell_type": "code",
   "execution_count": 82,
   "metadata": {},
   "outputs": [
    {
     "name": "stdout",
     "output_type": "stream",
     "text": [
      "30 筆資料 \n",
      "每筆資料包含\n",
      "id\n",
      "title\n",
      "excerpt\n",
      "anonymousSchool\n",
      "anonymousDepartment\n",
      "pinned\n",
      "forumId\n",
      "replyId\n",
      "createdAt\n",
      "updatedAt\n",
      "commentCount\n",
      "likeCount\n",
      "withNickname\n",
      "tags\n",
      "topics\n",
      "meta\n",
      "forumName\n",
      "forumAlias\n",
      "gender\n",
      "school\n",
      "replyTitle\n",
      "mediaMeta\n",
      "reactions\n",
      "hidden\n",
      "customStyle\n",
      "isSuspiciousAccount\n",
      "layout\n",
      "withImages\n",
      "withVideos\n",
      "media\n",
      "reportReasonText\n",
      "postAvatar\n",
      "32 個欄位\n"
     ]
    }
   ],
   "source": [
    "# 1. 這個 API 一次會回傳幾筆資料？每一筆資料包含哪些欄位？\n",
    "\n",
    "import requests\n",
    "r = requests.get('https://www.dcard.tw/_api/forums/pet/posts?popular=true')\n",
    "response = r.text\n",
    "\n",
    "import json\n",
    "data = json.loads(response)\n",
    "c=0;c2=0\n",
    "for d in data:\n",
    "    c+=1\n",
    "print(c,'筆資料','\\n每筆資料包含')\n",
    "for d in data[0]:\n",
    "    print(d)\n",
    "    c2+=1\n",
    "print(c2,'個欄位')\n",
    "   "
   ]
  },
  {
   "cell_type": "code",
   "execution_count": 83,
   "metadata": {},
   "outputs": [
    {
     "name": "stdout",
     "output_type": "stream",
     "text": [
      "  1  .title: 有人有看過這麼有喜感的貓嗎                 createdAt: 2020-02-27T00:41:45.740Z                likeCount: 1908\n",
      "  2  .title: 小蝦蝦不知道可不可以上熱門🥺                createdAt: 2020-02-26T22:13:53.583Z                likeCount: 428\n",
      "  3  .title: 看起來很衰的臘腸狗                     createdAt: 2020-02-27T03:24:54.078Z                likeCount: 106\n",
      "  4  .title: #圖 在公園遛天竺鼠ヽ(✿ﾟ▽ﾟ)ノ            createdAt: 2020-02-27T08:00:49.162Z                likeCount: 105\n",
      "  5  .title: 不喜歡洗澡的狗                       createdAt: 2020-02-27T01:06:35.270Z                likeCount: 52\n",
      "  6  .title: 拍屁屁奴隸的心聲                      createdAt: 2020-02-27T13:38:01.565Z                likeCount: 32\n",
      "  7  .title: 習慣躺枕頭睡覺                       createdAt: 2020-02-27T05:50:41.877Z                likeCount: 25\n",
      "  8  .title: 曬照🐿️                          createdAt: 2020-02-28T03:46:37.460Z                likeCount: 22\n",
      "  9  .title: 文長 我擁有全世界最棒的貓咪                createdAt: 2020-02-27T23:47:16.852Z                likeCount: 22\n",
      " 10  .title: 來曬一下家裡的黑狗🐶                    createdAt: 2020-02-27T21:10:15.772Z                likeCount: 19\n",
      " 11  .title: 朕想怎麼睡 就怎麼睡(˶‾᷄ ⁻̫ ‾᷅˵)        createdAt: 2020-02-27T19:53:48.404Z                likeCount: 18\n",
      " 12  .title: #協尋紅貴賓#懸賞金$5000#請大家幫忙頂上去！     createdAt: 2020-02-27T17:05:28.180Z                likeCount: 17\n",
      " 13  .title: 當你家的貓在看風景時⋯                   createdAt: 2020-02-27T06:48:59.523Z                likeCount: 16\n",
      " 14  .title: 賤人！                           createdAt: 2020-02-27T17:57:19.700Z                likeCount: 15\n",
      " 15  .title: 來曬一下可爾必思                      createdAt: 2020-02-27T08:19:49.020Z                likeCount: 15\n",
      " 16  .title: 露屁屁外星人                        createdAt: 2020-02-27T07:09:01.168Z                likeCount: 13\n",
      " 17  .title: 家有小三                          createdAt: 2020-02-27T10:14:48.735Z                likeCount: 12\n",
      " 18  .title: 三腳黑妞；救援孕狗不是件容易的事              createdAt: 2020-02-28T04:16:05.721Z                likeCount: 10\n",
      " 19  .title: 看那顫抖的小眼眶                      createdAt: 2020-02-27T22:52:19.976Z                likeCount: 10\n",
      " 20  .title: 🐔抓癢                           createdAt: 2020-02-27T05:50:48.792Z                likeCount: 9\n",
      " 21  .title: 所以說到底是什麼生物呢                   createdAt: 2020-02-28T06:28:07.294Z                likeCount: 8\n",
      " 22  .title: [抒發文]小狗狗去天堂了                  createdAt: 2020-02-27T14:08:40.800Z                likeCount: 7\n",
      " 23  .title: 從小養到大的主子真的信任我嗎                createdAt: 2020-02-27T08:13:49.089Z                likeCount: 7\n",
      " 24  .title: 學妹揪我一起看貓                      createdAt: 2020-02-27T05:18:10.961Z                likeCount: 7\n",
      " 25  .title: 新手開缸小紀錄｜準備&第一天                createdAt: 2020-02-26T22:43:32.501Z                likeCount: 7\n",
      " 26  .title: 柯基犬曬萌照                        createdAt: 2020-02-28T04:37:56.515Z                likeCount: 6\n",
      " 27  .title: 回不去的喵喵                        createdAt: 2020-02-27T01:49:34.657Z                likeCount: 6\n",
      " 28  .title: 尋狗 新莊夜市走丟的                    createdAt: 2020-02-28T02:57:24.261Z                likeCount: 5\n",
      " 29  .title: 同學我要妮的貓貓！！！                   createdAt: 2020-02-28T07:26:54.480Z                likeCount: 4\n",
      " 30  .title: 求這篇限時的貓咪                      createdAt: 2020-02-28T06:23:06.364Z                likeCount: 4\n"
     ]
    }
   ],
   "source": [
    "# 2. 取出每一筆資料的「標題」、「貼文時間」、「留言人數」、「按讚人數」\n",
    "c=0\n",
    "for d in data:\n",
    "    c+=1\n",
    "    print(\"{0:^5}{1:<8}{2:30}{3:}{4:40}{5:}{6:}\".format(c,'.title: ',d['title'],'createdAt: ',d['createdAt'],'likeCount: ',d['likeCount']))\n",
    "    #print(c,'. title:',d['title'],'createdAt',d['createdAt'],'\\t commentCount',d['commentCount'],'\\t likeCount',d['likeCount'])\n",
    "   "
   ]
  },
  {
   "cell_type": "code",
   "execution_count": 84,
   "metadata": {},
   "outputs": [
    {
     "name": "stdout",
     "output_type": "stream",
     "text": [
      "熱門文章     平均留言人數 :  6.73 \t平均案讚人數 :  97.17\n",
      "非熱門文章   平均留言人數 :  0.90 \t平均案讚人數 :  7.53\n"
     ]
    }
   ],
   "source": [
    "# 3. 計算熱門/非熱門文章的「平均留言人數」與「平均按讚人數」\n",
    "\n",
    "import requests\n",
    "r_famous = requests.get('https://www.dcard.tw/_api/forums/pet/posts?popular=true')\n",
    "r_Nfamous = requests.get('https://www.dcard.tw/_api/forums/pet/posts?popular=false')\n",
    "response_famous = r_famous.text\n",
    "response_Nfamous = r_Nfamous.text\n",
    "\n",
    "import json\n",
    "data_famous = json.loads(response_famous)\n",
    "data_Nfamous = json.loads(response_Nfamous)\n",
    "\n",
    "comment_famous=0;like_famous=0\n",
    "comment_Nfamous=0;like_Nfamous=0\n",
    "\n",
    "c1=0\n",
    "for d in data_famous:\n",
    "    comment_famous+=d['commentCount']\n",
    "    like_famous+=d['likeCount']\n",
    "    c1+=1\n",
    "c2=0\n",
    "for d in data_Nfamous:\n",
    "    comment_Nfamous+=d['commentCount']\n",
    "    like_Nfamous+=d['likeCount']\n",
    "    c2+=1\n",
    "\n",
    "print('熱門文章     平均留言人數 : ','%.2f'%(comment_famous/c1),'\\t平均案讚人數 : ','%.2f'%(like_famous/c1))\n",
    "print('非熱門文章   平均留言人數 : ','%.2f'%(comment_Nfamous/c2),'\\t平均案讚人數 : ','%.2f'%(like_Nfamous/c2))"
   ]
  },
  {
   "cell_type": "code",
   "execution_count": null,
   "metadata": {},
   "outputs": [],
   "source": []
  },
  {
   "cell_type": "code",
   "execution_count": null,
   "metadata": {},
   "outputs": [],
   "source": []
  }
 ],
 "metadata": {
  "kernelspec": {
   "display_name": "Python 3",
   "language": "python",
   "name": "python3"
  },
  "language_info": {
   "codemirror_mode": {
    "name": "ipython",
    "version": 3
   },
   "file_extension": ".py",
   "mimetype": "text/x-python",
   "name": "python",
   "nbconvert_exporter": "python",
   "pygments_lexer": "ipython3",
   "version": "3.7.4"
  }
 },
 "nbformat": 4,
 "nbformat_minor": 2
}
