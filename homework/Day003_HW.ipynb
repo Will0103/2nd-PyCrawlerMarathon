{
 "cells": [
  {
   "cell_type": "markdown",
   "metadata": {},
   "source": [
    "# Python 下載XML檔案與解析\n",
    "\n",
    "\n",
    "* 了解 xml 檔案格式與內容\n",
    "* 能夠利用套件存取 xml 格式的檔案\n"
   ]
  },
  {
   "cell_type": "markdown",
   "metadata": {},
   "source": [
    "## 作業目標\n",
    "\n",
    "* 比較一下範例檔案中的「File I/O」與「xmltodict」讀出來的內容有什麼差異\n",
    "\n",
    "* 根據範例檔案的結果：\n",
    "    1. 請問高雄市有多少地區有溫度資料？\n",
    "    2. 請取出每一個地區所記錄的第一個時間點跟溫度\n",
    "    3. 請取出第一個地區所記錄的每一個時間點跟溫度"
   ]
  },
  {
   "cell_type": "markdown",
   "metadata": {},
   "source": [
    "### 比較一下範例檔案中的「File I/O」與「xmltodict」讀出來的內容有什麼差異\n"
   ]
  },
  {
   "cell_type": "markdown",
   "metadata": {},
   "source": [
    "* ANS : 用File I/O 讀出來的是字串(str)，用xmltodic讀出來的是Dict。在資訊搜索及整理上Dict的資料型態會比str來的方便許多。"
   ]
  },
  {
   "cell_type": "markdown",
   "metadata": {},
   "source": [
    "### 根據範例檔案的結果：\n",
    "\n",
    "1. 請問高雄市有多少地區有溫度資料？\n",
    "2. 請取出每一個地區所記錄的第一個時間點跟溫度\n",
    "3. 請取出第一個地區所記錄的每一個時間點跟溫度"
   ]
  },
  {
   "cell_type": "code",
   "execution_count": 95,
   "metadata": {},
   "outputs": [
    {
     "name": "stdout",
     "output_type": "stream",
     "text": [
      "Requirement already satisfied: xmltodict in c:\\users\\user\\anaconda3\\lib\\site-packages (0.12.0)\n",
      "鹽埕區\n",
      "鼓山區\n",
      "左營區\n",
      "楠梓區\n",
      "三民區\n",
      "新興區\n",
      "前金區\n",
      "苓雅區\n",
      "前鎮區\n",
      "旗津區\n",
      "小港區\n",
      "鳳山區\n",
      "林園區\n",
      "大寮區\n",
      "大樹區\n",
      "大社區\n",
      "仁武區\n",
      "鳥松區\n",
      "岡山區\n",
      "橋頭區\n",
      "燕巢區\n",
      "田寮區\n",
      "阿蓮區\n",
      "路竹區\n",
      "湖內區\n",
      "茄萣區\n",
      "永安區\n",
      "彌陀區\n",
      "梓官區\n",
      "旗山區\n",
      "美濃區\n",
      "六龜區\n",
      "甲仙區\n",
      "杉林區\n",
      "內門區\n",
      "茂林區\n",
      "桃源區\n",
      "那瑪夏區\n",
      "\n",
      "總共有 38 區\n"
     ]
    }
   ],
   "source": [
    "# 1. 請問高雄市有多少地區有溫度資料？\n",
    "\n",
    "!pip install xmltodict\n",
    "import xmltodict\n",
    "# 存取檔案\n",
    "\n",
    "with open('./data/64_72hr_CH.xml',encoding=\"utf-8\") as fd:\n",
    "    doc = dict(xmltodict.parse(fd.read()))\n",
    "\n",
    "# 存取我們的資訊\n",
    "i=0\n",
    "chapters=doc['cwbopendata']['dataset']['locations']['location']\n",
    "for chapter in chapters:\n",
    "    print (chapter['locationName'])\n",
    "    i+=1\n",
    "print('\\n總共有',i,'區')"
   ]
  },
  {
   "cell_type": "code",
   "execution_count": 96,
   "metadata": {
    "scrolled": true
   },
   "outputs": [
    {
     "name": "stdout",
     "output_type": "stream",
     "text": [
      "Requirement already satisfied: xmltodict in c:\\users\\user\\anaconda3\\lib\\site-packages (0.12.0)\n",
      "鹽埕區 \t 2020-02-26T18:00:00+08:00 \t 26 攝氏度\n",
      "鼓山區 \t 2020-02-26T18:00:00+08:00 \t 26 攝氏度\n",
      "左營區 \t 2020-02-26T18:00:00+08:00 \t 26 攝氏度\n",
      "楠梓區 \t 2020-02-26T18:00:00+08:00 \t 27 攝氏度\n",
      "三民區 \t 2020-02-26T18:00:00+08:00 \t 26 攝氏度\n",
      "新興區 \t 2020-02-26T18:00:00+08:00 \t 26 攝氏度\n",
      "前金區 \t 2020-02-26T18:00:00+08:00 \t 26 攝氏度\n",
      "苓雅區 \t 2020-02-26T18:00:00+08:00 \t 26 攝氏度\n",
      "前鎮區 \t 2020-02-26T18:00:00+08:00 \t 26 攝氏度\n",
      "旗津區 \t 2020-02-26T18:00:00+08:00 \t 25 攝氏度\n",
      "小港區 \t 2020-02-26T18:00:00+08:00 \t 26 攝氏度\n",
      "鳳山區 \t 2020-02-26T18:00:00+08:00 \t 27 攝氏度\n",
      "林園區 \t 2020-02-26T18:00:00+08:00 \t 27 攝氏度\n",
      "大寮區 \t 2020-02-26T18:00:00+08:00 \t 27 攝氏度\n",
      "大樹區 \t 2020-02-26T18:00:00+08:00 \t 28 攝氏度\n",
      "大社區 \t 2020-02-26T18:00:00+08:00 \t 27 攝氏度\n",
      "仁武區 \t 2020-02-26T18:00:00+08:00 \t 27 攝氏度\n",
      "鳥松區 \t 2020-02-26T18:00:00+08:00 \t 27 攝氏度\n",
      "岡山區 \t 2020-02-26T18:00:00+08:00 \t 26 攝氏度\n",
      "橋頭區 \t 2020-02-26T18:00:00+08:00 \t 27 攝氏度\n",
      "燕巢區 \t 2020-02-26T18:00:00+08:00 \t 26 攝氏度\n",
      "田寮區 \t 2020-02-26T18:00:00+08:00 \t 25 攝氏度\n",
      "阿蓮區 \t 2020-02-26T18:00:00+08:00 \t 26 攝氏度\n",
      "路竹區 \t 2020-02-26T18:00:00+08:00 \t 26 攝氏度\n",
      "湖內區 \t 2020-02-26T18:00:00+08:00 \t 25 攝氏度\n",
      "茄萣區 \t 2020-02-26T18:00:00+08:00 \t 24 攝氏度\n",
      "永安區 \t 2020-02-26T18:00:00+08:00 \t 24 攝氏度\n",
      "彌陀區 \t 2020-02-26T18:00:00+08:00 \t 25 攝氏度\n",
      "梓官區 \t 2020-02-26T18:00:00+08:00 \t 25 攝氏度\n",
      "旗山區 \t 2020-02-26T18:00:00+08:00 \t 26 攝氏度\n",
      "美濃區 \t 2020-02-26T18:00:00+08:00 \t 27 攝氏度\n",
      "六龜區 \t 2020-02-26T18:00:00+08:00 \t 24 攝氏度\n",
      "甲仙區 \t 2020-02-26T18:00:00+08:00 \t 24 攝氏度\n",
      "杉林區 \t 2020-02-26T18:00:00+08:00 \t 26 攝氏度\n",
      "內門區 \t 2020-02-26T18:00:00+08:00 \t 26 攝氏度\n",
      "茂林區 \t 2020-02-26T18:00:00+08:00 \t 24 攝氏度\n",
      "桃源區 \t 2020-02-26T18:00:00+08:00 \t 21 攝氏度\n",
      "那瑪夏區 \t 2020-02-26T18:00:00+08:00 \t 19 攝氏度\n"
     ]
    }
   ],
   "source": [
    "# 2. 請取出每一個地區所記錄的第一個時間點跟溫度\n",
    "\n",
    "!pip install xmltodict\n",
    "import xmltodict\n",
    "# 存取檔案\n",
    "\n",
    "with open('./data/64_72hr_CH.xml',encoding=\"utf-8\") as fd:\n",
    "    doc = dict(xmltodict.parse(fd.read()))\n",
    "# 存取我們的資訊\n",
    "chapters=doc['cwbopendata']['dataset']['locations']['location']\n",
    "\n",
    "for chapter in chapters:\n",
    "    # 有很多weatherElement，所以要找它在list中的第幾個\n",
    "    print(chapter['locationName'],'\\t',chapter['weatherElement'][0]['time'][0]['dataTime'],'\\t',chapter['weatherElement'][0]['time'][0]['elementValue']['value'],chapter['weatherElement'][0]['time'][0]['elementValue']['measures'])\n"
   ]
  },
  {
   "cell_type": "code",
   "execution_count": 97,
   "metadata": {},
   "outputs": [
    {
     "name": "stdout",
     "output_type": "stream",
     "text": [
      "Requirement already satisfied: xmltodict in c:\\users\\user\\anaconda3\\lib\\site-packages (0.12.0)\n",
      "鹽埕區\n",
      "2020-02-26T18:00:00+08:00 \t 26 攝氏度\n",
      "2020-02-26T21:00:00+08:00 \t 24 攝氏度\n",
      "2020-02-27T00:00:00+08:00 \t 22 攝氏度\n",
      "2020-02-27T03:00:00+08:00 \t 21 攝氏度\n",
      "2020-02-27T06:00:00+08:00 \t 21 攝氏度\n",
      "2020-02-27T09:00:00+08:00 \t 22 攝氏度\n",
      "2020-02-27T12:00:00+08:00 \t 26 攝氏度\n",
      "2020-02-27T15:00:00+08:00 \t 26 攝氏度\n",
      "2020-02-27T18:00:00+08:00 \t 25 攝氏度\n",
      "2020-02-27T21:00:00+08:00 \t 23 攝氏度\n",
      "2020-02-28T00:00:00+08:00 \t 22 攝氏度\n",
      "2020-02-28T03:00:00+08:00 \t 21 攝氏度\n",
      "2020-02-28T06:00:00+08:00 \t 21 攝氏度\n",
      "2020-02-28T09:00:00+08:00 \t 22 攝氏度\n",
      "2020-02-28T12:00:00+08:00 \t 26 攝氏度\n",
      "2020-02-28T15:00:00+08:00 \t 26 攝氏度\n",
      "2020-02-28T18:00:00+08:00 \t 25 攝氏度\n",
      "2020-02-28T21:00:00+08:00 \t 24 攝氏度\n",
      "2020-02-29T00:00:00+08:00 \t 23 攝氏度\n",
      "2020-02-29T03:00:00+08:00 \t 22 攝氏度\n",
      "2020-02-29T06:00:00+08:00 \t 22 攝氏度\n",
      "2020-02-29T09:00:00+08:00 \t 24 攝氏度\n",
      "2020-02-29T12:00:00+08:00 \t 28 攝氏度\n",
      "2020-02-29T15:00:00+08:00 \t 29 攝氏度\n"
     ]
    }
   ],
   "source": [
    "# 3. 請取出第一個地區所記錄的每一個時間點跟溫度\n",
    "\n",
    "\n",
    "!pip install xmltodict\n",
    "import xmltodict\n",
    "# 存取檔案\n",
    "\n",
    "with open('./data/64_72hr_CH.xml',encoding=\"utf-8\") as fd:\n",
    "    doc = dict(xmltodict.parse(fd.read()))\n",
    "# 存取我們的資訊\n",
    "chapters=doc['cwbopendata']['dataset']['locations']['location']\n",
    "print(chapters[0]['locationName'])\n",
    "\n",
    "for chapter in chapters[0]['weatherElement'][0]['time']:\n",
    "    print(chapter['dataTime'],'\\t',chapter['elementValue']['value'],chapter['elementValue']['measures'])\n",
    "  "
   ]
  },
  {
   "cell_type": "code",
   "execution_count": null,
   "metadata": {},
   "outputs": [],
   "source": []
  }
 ],
 "metadata": {
  "kernelspec": {
   "display_name": "Python 3",
   "language": "python",
   "name": "python3"
  },
  "language_info": {
   "codemirror_mode": {
    "name": "ipython",
    "version": 3
   },
   "file_extension": ".py",
   "mimetype": "text/x-python",
   "name": "python",
   "nbconvert_exporter": "python",
   "pygments_lexer": "ipython3",
   "version": "3.7.4"
  }
 },
 "nbformat": 4,
 "nbformat_minor": 2
}
